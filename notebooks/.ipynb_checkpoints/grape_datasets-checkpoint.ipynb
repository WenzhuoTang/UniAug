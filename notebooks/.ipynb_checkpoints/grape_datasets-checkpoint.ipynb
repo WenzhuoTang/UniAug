{
 "cells": [
  {
   "cell_type": "code",
   "execution_count": 1,
   "id": "49d0bae5",
   "metadata": {},
   "outputs": [],
   "source": [
    "import grape\n",
    "\n",
    "from grape.datasets import get_all_available_graphs_dataframe\n",
    "from grape.datasets import get_dataset"
   ]
  },
  {
   "cell_type": "code",
   "execution_count": 3,
   "id": "92b44a39",
   "metadata": {},
   "outputs": [
    {
     "data": {
      "text/html": [
       "<div>\n",
       "<style scoped>\n",
       "    .dataframe tbody tr th:only-of-type {\n",
       "        vertical-align: middle;\n",
       "    }\n",
       "\n",
       "    .dataframe tbody tr th {\n",
       "        vertical-align: top;\n",
       "    }\n",
       "\n",
       "    .dataframe thead th {\n",
       "        text-align: right;\n",
       "    }\n",
       "</style>\n",
       "<table border=\"1\" class=\"dataframe\">\n",
       "  <thead>\n",
       "    <tr style=\"text-align: right;\">\n",
       "      <th></th>\n",
       "      <th>repository</th>\n",
       "      <th>name</th>\n",
       "      <th>version</th>\n",
       "    </tr>\n",
       "  </thead>\n",
       "  <tbody>\n",
       "    <tr>\n",
       "      <th>0</th>\n",
       "      <td>pheknowlatorkg</td>\n",
       "      <td>PheKnowLator</td>\n",
       "      <td>v2.0.0-2020-5-10.instance-inverseRelations-owl</td>\n",
       "    </tr>\n",
       "    <tr>\n",
       "      <th>1</th>\n",
       "      <td>pheknowlatorkg</td>\n",
       "      <td>PheKnowLator</td>\n",
       "      <td>v2.0.0-2020-5-10.instance-inverseRelations-owl...</td>\n",
       "    </tr>\n",
       "    <tr>\n",
       "      <th>2</th>\n",
       "      <td>pheknowlatorkg</td>\n",
       "      <td>PheKnowLator</td>\n",
       "      <td>v2.0.0-2020-5-10.instance-relationsOnly-owl</td>\n",
       "    </tr>\n",
       "    <tr>\n",
       "      <th>3</th>\n",
       "      <td>pheknowlatorkg</td>\n",
       "      <td>PheKnowLator</td>\n",
       "      <td>v2.0.0-2020-5-10.instance-relationsOnly-owlnets</td>\n",
       "    </tr>\n",
       "    <tr>\n",
       "      <th>4</th>\n",
       "      <td>pheknowlatorkg</td>\n",
       "      <td>PheKnowLator</td>\n",
       "      <td>v2.0.0-2020-5-10.subclass-inverseRelations-owl</td>\n",
       "    </tr>\n",
       "    <tr>\n",
       "      <th>...</th>\n",
       "      <td>...</td>\n",
       "      <td>...</td>\n",
       "      <td>...</td>\n",
       "    </tr>\n",
       "    <tr>\n",
       "      <th>163005</th>\n",
       "      <td>kgobo</td>\n",
       "      <td>CL</td>\n",
       "      <td>2023-08-24</td>\n",
       "    </tr>\n",
       "    <tr>\n",
       "      <th>163006</th>\n",
       "      <td>kgobo</td>\n",
       "      <td>CL</td>\n",
       "      <td>2023-09-21</td>\n",
       "    </tr>\n",
       "    <tr>\n",
       "      <th>163007</th>\n",
       "      <td>kgobo</td>\n",
       "      <td>MFOEM</td>\n",
       "      <td>2022-07-19</td>\n",
       "    </tr>\n",
       "    <tr>\n",
       "      <th>163008</th>\n",
       "      <td>kgobo</td>\n",
       "      <td>MFOEM</td>\n",
       "      <td>2021-09-21</td>\n",
       "    </tr>\n",
       "    <tr>\n",
       "      <th>163009</th>\n",
       "      <td>kgobo</td>\n",
       "      <td>MFOEM</td>\n",
       "      <td>2021-11-17</td>\n",
       "    </tr>\n",
       "  </tbody>\n",
       "</table>\n",
       "<p>163010 rows × 3 columns</p>\n",
       "</div>"
      ],
      "text/plain": [
       "            repository          name  \\\n",
       "0       pheknowlatorkg  PheKnowLator   \n",
       "1       pheknowlatorkg  PheKnowLator   \n",
       "2       pheknowlatorkg  PheKnowLator   \n",
       "3       pheknowlatorkg  PheKnowLator   \n",
       "4       pheknowlatorkg  PheKnowLator   \n",
       "...                ...           ...   \n",
       "163005           kgobo            CL   \n",
       "163006           kgobo            CL   \n",
       "163007           kgobo         MFOEM   \n",
       "163008           kgobo         MFOEM   \n",
       "163009           kgobo         MFOEM   \n",
       "\n",
       "                                                  version  \n",
       "0          v2.0.0-2020-5-10.instance-inverseRelations-owl  \n",
       "1       v2.0.0-2020-5-10.instance-inverseRelations-owl...  \n",
       "2             v2.0.0-2020-5-10.instance-relationsOnly-owl  \n",
       "3         v2.0.0-2020-5-10.instance-relationsOnly-owlnets  \n",
       "4          v2.0.0-2020-5-10.subclass-inverseRelations-owl  \n",
       "...                                                   ...  \n",
       "163005                                         2023-08-24  \n",
       "163006                                         2023-09-21  \n",
       "163007                                         2022-07-19  \n",
       "163008                                         2021-09-21  \n",
       "163009                                         2021-11-17  \n",
       "\n",
       "[163010 rows x 3 columns]"
      ]
     },
     "execution_count": 3,
     "metadata": {},
     "output_type": "execute_result"
    }
   ],
   "source": [
    "available_graphs = get_all_available_graphs_dataframe(verbose=False)\n",
    "available_graphs"
   ]
  },
  {
   "cell_type": "code",
   "execution_count": 5,
   "id": "39d68220-3544-47c7-8cb1-46570da16fe9",
   "metadata": {},
   "outputs": [
    {
     "data": {
      "text/plain": [
       "string               154339\n",
       "wikipedia              6041\n",
       "networkrepository      1194\n",
       "kgobo                   894\n",
       "zenodo                  168\n",
       "kghub                   145\n",
       "pheknowlatorkg          116\n",
       "monarchinitiative        76\n",
       "wikidata                 21\n",
       "yue                       7\n",
       "linqs                     3\n",
       "freebase                  2\n",
       "hetionet                  1\n",
       "harvard                   1\n",
       "pubmed                    1\n",
       "jax                       1\n",
       "Name: repository, dtype: int64"
      ]
     },
     "execution_count": 5,
     "metadata": {},
     "output_type": "execute_result"
    }
   ],
   "source": [
    "available_graphs.repository.value_counts()"
   ]
  },
  {
   "cell_type": "code",
   "execution_count": 6,
   "id": "ee81fc42-b004-4b8d-a63b-248c87726fa0",
   "metadata": {},
   "outputs": [
    {
     "data": {
      "text/plain": [
       "IMDB                      2\n",
       "C5009                     1\n",
       "Oregon1                   1\n",
       "Sw100060d3Trial2          1\n",
       "BNFlyDrosophilaMedulla    1\n",
       "                         ..\n",
       "G58                       1\n",
       "SocfbUc61                 1\n",
       "SocfbOr                   1\n",
       "G48                       1\n",
       "G1                        1\n",
       "Name: name, Length: 1193, dtype: int64"
      ]
     },
     "execution_count": 6,
     "metadata": {},
     "output_type": "execute_result"
    }
   ],
   "source": [
    "repo_name = 'networkrepository'\n",
    "\n",
    "available_graphs[available_graphs.repository == repo_name].name.value_counts()"
   ]
  },
  {
   "cell_type": "code",
   "execution_count": null,
   "id": "6cbb9a20-111a-45b6-a5e1-26bda9fdb1cb",
   "metadata": {},
   "outputs": [],
   "source": [
    "dataset_generator = get_dataset(graph_name='')"
   ]
  }
 ],
 "metadata": {
  "kernelspec": {
   "display_name": "Python 3 (ipykernel)",
   "language": "python",
   "name": "python3"
  },
  "language_info": {
   "codemirror_mode": {
    "name": "ipython",
    "version": 3
   },
   "file_extension": ".py",
   "mimetype": "text/x-python",
   "name": "python",
   "nbconvert_exporter": "python",
   "pygments_lexer": "ipython3",
   "version": "3.9.18"
  }
 },
 "nbformat": 4,
 "nbformat_minor": 5
}
