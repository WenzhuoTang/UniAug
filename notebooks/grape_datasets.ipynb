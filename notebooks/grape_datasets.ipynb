{
 "cells": [
  {
   "cell_type": "code",
   "execution_count": 1,
   "id": "49d0bae5",
   "metadata": {},
   "outputs": [],
   "source": [
    "import grape\n",
    "\n",
    "from grape.datasets import get_all_available_graphs_dataframe\n",
    "from grape.datasets import get_dataset"
   ]
  },
  {
   "cell_type": "code",
   "execution_count": 3,
   "id": "92b44a39",
   "metadata": {},
   "outputs": [
    {
     "data": {
      "text/html": [
       "<div>\n",
       "<style scoped>\n",
       "    .dataframe tbody tr th:only-of-type {\n",
       "        vertical-align: middle;\n",
       "    }\n",
       "\n",
       "    .dataframe tbody tr th {\n",
       "        vertical-align: top;\n",
       "    }\n",
       "\n",
       "    .dataframe thead th {\n",
       "        text-align: right;\n",
       "    }\n",
       "</style>\n",
       "<table border=\"1\" class=\"dataframe\">\n",
       "  <thead>\n",
       "    <tr style=\"text-align: right;\">\n",
       "      <th></th>\n",
       "      <th>repository</th>\n",
       "      <th>name</th>\n",
       "      <th>version</th>\n",
       "    </tr>\n",
       "  </thead>\n",
       "  <tbody>\n",
       "    <tr>\n",
       "      <th>0</th>\n",
       "      <td>pheknowlatorkg</td>\n",
       "      <td>PheKnowLator</td>\n",
       "      <td>v2.0.0-2020-5-10.instance-inverseRelations-owl</td>\n",
       "    </tr>\n",
       "    <tr>\n",
       "      <th>1</th>\n",
       "      <td>pheknowlatorkg</td>\n",
       "      <td>PheKnowLator</td>\n",
       "      <td>v2.0.0-2020-5-10.instance-inverseRelations-owl...</td>\n",
       "    </tr>\n",
       "    <tr>\n",
       "      <th>2</th>\n",
       "      <td>pheknowlatorkg</td>\n",
       "      <td>PheKnowLator</td>\n",
       "      <td>v2.0.0-2020-5-10.instance-relationsOnly-owl</td>\n",
       "    </tr>\n",
       "    <tr>\n",
       "      <th>3</th>\n",
       "      <td>pheknowlatorkg</td>\n",
       "      <td>PheKnowLator</td>\n",
       "      <td>v2.0.0-2020-5-10.instance-relationsOnly-owlnets</td>\n",
       "    </tr>\n",
       "    <tr>\n",
       "      <th>4</th>\n",
       "      <td>pheknowlatorkg</td>\n",
       "      <td>PheKnowLator</td>\n",
       "      <td>v2.0.0-2020-5-10.subclass-inverseRelations-owl</td>\n",
       "    </tr>\n",
       "    <tr>\n",
       "      <th>...</th>\n",
       "      <td>...</td>\n",
       "      <td>...</td>\n",
       "      <td>...</td>\n",
       "    </tr>\n",
       "    <tr>\n",
       "      <th>163005</th>\n",
       "      <td>kgobo</td>\n",
       "      <td>CL</td>\n",
       "      <td>2023-08-24</td>\n",
       "    </tr>\n",
       "    <tr>\n",
       "      <th>163006</th>\n",
       "      <td>kgobo</td>\n",
       "      <td>CL</td>\n",
       "      <td>2023-09-21</td>\n",
       "    </tr>\n",
       "    <tr>\n",
       "      <th>163007</th>\n",
       "      <td>kgobo</td>\n",
       "      <td>MFOEM</td>\n",
       "      <td>2022-07-19</td>\n",
       "    </tr>\n",
       "    <tr>\n",
       "      <th>163008</th>\n",
       "      <td>kgobo</td>\n",
       "      <td>MFOEM</td>\n",
       "      <td>2021-09-21</td>\n",
       "    </tr>\n",
       "    <tr>\n",
       "      <th>163009</th>\n",
       "      <td>kgobo</td>\n",
       "      <td>MFOEM</td>\n",
       "      <td>2021-11-17</td>\n",
       "    </tr>\n",
       "  </tbody>\n",
       "</table>\n",
       "<p>163010 rows × 3 columns</p>\n",
       "</div>"
      ],
      "text/plain": [
       "            repository          name  \\\n",
       "0       pheknowlatorkg  PheKnowLator   \n",
       "1       pheknowlatorkg  PheKnowLator   \n",
       "2       pheknowlatorkg  PheKnowLator   \n",
       "3       pheknowlatorkg  PheKnowLator   \n",
       "4       pheknowlatorkg  PheKnowLator   \n",
       "...                ...           ...   \n",
       "163005           kgobo            CL   \n",
       "163006           kgobo            CL   \n",
       "163007           kgobo         MFOEM   \n",
       "163008           kgobo         MFOEM   \n",
       "163009           kgobo         MFOEM   \n",
       "\n",
       "                                                  version  \n",
       "0          v2.0.0-2020-5-10.instance-inverseRelations-owl  \n",
       "1       v2.0.0-2020-5-10.instance-inverseRelations-owl...  \n",
       "2             v2.0.0-2020-5-10.instance-relationsOnly-owl  \n",
       "3         v2.0.0-2020-5-10.instance-relationsOnly-owlnets  \n",
       "4          v2.0.0-2020-5-10.subclass-inverseRelations-owl  \n",
       "...                                                   ...  \n",
       "163005                                         2023-08-24  \n",
       "163006                                         2023-09-21  \n",
       "163007                                         2022-07-19  \n",
       "163008                                         2021-09-21  \n",
       "163009                                         2021-11-17  \n",
       "\n",
       "[163010 rows x 3 columns]"
      ]
     },
     "execution_count": 3,
     "metadata": {},
     "output_type": "execute_result"
    }
   ],
   "source": [
    "available_graphs = get_all_available_graphs_dataframe(verbose=False)\n",
    "available_graphs"
   ]
  },
  {
   "cell_type": "code",
   "execution_count": 5,
   "id": "39d68220-3544-47c7-8cb1-46570da16fe9",
   "metadata": {},
   "outputs": [
    {
     "data": {
      "text/plain": [
       "string               154339\n",
       "wikipedia              6041\n",
       "networkrepository      1194\n",
       "kgobo                   894\n",
       "zenodo                  168\n",
       "kghub                   145\n",
       "pheknowlatorkg          116\n",
       "monarchinitiative        76\n",
       "wikidata                 21\n",
       "yue                       7\n",
       "linqs                     3\n",
       "freebase                  2\n",
       "hetionet                  1\n",
       "harvard                   1\n",
       "pubmed                    1\n",
       "jax                       1\n",
       "Name: repository, dtype: int64"
      ]
     },
     "execution_count": 5,
     "metadata": {},
     "output_type": "execute_result"
    }
   ],
   "source": [
    "available_graphs.repository.value_counts()"
   ]
  },
  {
   "cell_type": "code",
   "execution_count": 52,
   "id": "ee81fc42-b004-4b8d-a63b-248c87726fa0",
   "metadata": {},
   "outputs": [
    {
     "data": {
      "text/plain": [
       "KGIDG        41\n",
       "KGPhenio     38\n",
       "KGCOVID19    38\n",
       "KGMicrobe    25\n",
       "EcoKG         2\n",
       "SLDB          1\n",
       "Name: name, dtype: int64"
      ]
     },
     "execution_count": 52,
     "metadata": {},
     "output_type": "execute_result"
    }
   ],
   "source": [
    "rep_name = 'kghub'\n",
    "\n",
    "available_graphs[available_graphs.repository == rep_name].name.value_counts()"
   ]
  },
  {
   "cell_type": "code",
   "execution_count": 51,
   "id": "f268bc5f-a3ff-4e5c-887b-44806e0d1894",
   "metadata": {},
   "outputs": [
    {
     "data": {
      "text/html": [
       "<div>\n",
       "<style scoped>\n",
       "    .dataframe tbody tr th:only-of-type {\n",
       "        vertical-align: middle;\n",
       "    }\n",
       "\n",
       "    .dataframe tbody tr th {\n",
       "        vertical-align: top;\n",
       "    }\n",
       "\n",
       "    .dataframe thead th {\n",
       "        text-align: right;\n",
       "    }\n",
       "</style>\n",
       "<table border=\"1\" class=\"dataframe\">\n",
       "  <thead>\n",
       "    <tr style=\"text-align: right;\">\n",
       "      <th></th>\n",
       "      <th>repository</th>\n",
       "      <th>name</th>\n",
       "      <th>version</th>\n",
       "    </tr>\n",
       "  </thead>\n",
       "  <tbody>\n",
       "    <tr>\n",
       "      <th>162115</th>\n",
       "      <td>jax</td>\n",
       "      <td>Isopret</td>\n",
       "      <td>latest</td>\n",
       "    </tr>\n",
       "  </tbody>\n",
       "</table>\n",
       "</div>"
      ],
      "text/plain": [
       "       repository     name version\n",
       "162115        jax  Isopret  latest"
      ]
     },
     "execution_count": 51,
     "metadata": {},
     "output_type": "execute_result"
    }
   ],
   "source": [
    "net_name = 'Isopret'\n",
    "\n",
    "available_graphs[available_graphs.name == net_name]"
   ]
  },
  {
   "cell_type": "code",
   "execution_count": 31,
   "id": "a36e01a6-de25-4b2d-bcd8-df80979ca766",
   "metadata": {},
   "outputs": [],
   "source": [
    "import grape.datasets\n",
    "\n",
    "rep_name = \"string\"\n",
    "net_name = \"CompleteString\"\n",
    "\n",
    "dataset = getattr(getattr(grape.datasets, rep_name), net_name)"
   ]
  },
  {
   "cell_type": "code",
   "execution_count": 32,
   "id": "aa132478-14c4-4b1d-b8ed-50c0c55d2c08",
   "metadata": {},
   "outputs": [
    {
     "data": {
      "text/plain": [
       "<function datasets.string.CompleteString(directed=False, preprocess='auto', bioregistry=False, load_nodes=True, load_node_types=True, load_edge_types=True, load_edge_weights=True, auto_enable_tradeoffs=True, sort_tmp_dir=None, verbose=2, ring_bell=False, cache=True, cache_path=None, cache_sys_var='GRAPH_CACHE_DIR', version='physical.links.full.v12.0', **kwargs) -> ensmallen.Graph>"
      ]
     },
     "execution_count": 32,
     "metadata": {},
     "output_type": "execute_result"
    }
   ],
   "source": [
    "dataset"
   ]
  },
  {
   "cell_type": "code",
   "execution_count": 27,
   "id": "bebb72a9-632e-4c89-b060-d46e08a4a988",
   "metadata": {},
   "outputs": [
    {
     "data": {
      "application/vnd.jupyter.widget-view+json": {
       "model_id": "ef6674f282f94cc9a65dad5c5c128556",
       "version_major": 2,
       "version_minor": 0
      },
      "text/plain": [
       "Downloading to ../data/grape/wi...ltistream.xml.bz2:   0%|                                 | 0.00/22.5G [00:00…"
      ]
     },
     "metadata": {},
     "output_type": "display_data"
    },
    {
     "ename": "KeyboardInterrupt",
     "evalue": "",
     "output_type": "error",
     "traceback": [
      "\u001b[0;31m---------------------------------------------------------------------------\u001b[0m",
      "\u001b[0;31mKeyboardInterrupt\u001b[0m                         Traceback (most recent call last)",
      "Cell \u001b[0;32mIn[27], line 1\u001b[0m\n\u001b[0;32m----> 1\u001b[0m data \u001b[38;5;241m=\u001b[39m \u001b[43mdataset\u001b[49m\u001b[43m(\u001b[49m\u001b[43mcache_path\u001b[49m\u001b[38;5;241;43m=\u001b[39;49m\u001b[38;5;124;43m'\u001b[39;49m\u001b[38;5;124;43m../data/grape\u001b[39;49m\u001b[38;5;124;43m'\u001b[39;49m\u001b[43m)\u001b[49m\n\u001b[1;32m      2\u001b[0m data\n",
      "File \u001b[0;32m/egr/research-dselab/tangwen2/anaconda3/envs/scdiff/lib/python3.9/site-packages/ensmallen/datasets/wikipedia.py:17084\u001b[0m, in \u001b[0;36mWikiEN\u001b[0;34m(directed, load_nodes, load_node_types, load_edge_types, keep_nodes_without_descriptions, keep_nodes_without_categories, keep_interwikipedia_nodes, keep_external_nodes, compute_node_description, auto_enable_tradeoffs, sort_tmp_dir, verbose, cache, cache_path, cache_sys_var, version, **graph_kwargs)\u001b[0m\n\u001b[1;32m  16999\u001b[0m \u001b[38;5;28;01mdef\u001b[39;00m \u001b[38;5;21mWikiEN\u001b[39m(\n\u001b[1;32m  17000\u001b[0m     directed: \u001b[38;5;28mbool\u001b[39m \u001b[38;5;241m=\u001b[39m \u001b[38;5;28;01mFalse\u001b[39;00m,\n\u001b[1;32m  17001\u001b[0m     load_nodes: \u001b[38;5;28mbool\u001b[39m \u001b[38;5;241m=\u001b[39m \u001b[38;5;28;01mTrue\u001b[39;00m,\n\u001b[0;32m   (...)\u001b[0m\n\u001b[1;32m  17016\u001b[0m     \u001b[38;5;241m*\u001b[39m\u001b[38;5;241m*\u001b[39mgraph_kwargs\n\u001b[1;32m  17017\u001b[0m ) \u001b[38;5;241m-\u001b[39m\u001b[38;5;241m>\u001b[39m Graph:\n\u001b[1;32m  17018\u001b[0m \u001b[38;5;250m    \u001b[39m\u001b[38;5;124;03m\"\"\"Return new instance of the WikiEN graph.\u001b[39;00m\n\u001b[1;32m  17019\u001b[0m \n\u001b[1;32m  17020\u001b[0m \u001b[38;5;124;03m    The graph is automatically retrieved from the Wikipedia repository.\t\u001b[39;00m\n\u001b[0;32m   (...)\u001b[0m\n\u001b[1;32m  17082\u001b[0m \u001b[38;5;124;03m\t\u001b[39;00m\n\u001b[1;32m  17083\u001b[0m \u001b[38;5;124;03m    \"\"\"\u001b[39;00m\n\u001b[0;32m> 17084\u001b[0m     \u001b[38;5;28;01mreturn\u001b[39;00m \u001b[43mWikipediaRetrievedGraph\u001b[49m\u001b[43m(\u001b[49m\n\u001b[1;32m  17085\u001b[0m \u001b[43m        \u001b[49m\u001b[43mname\u001b[49m\u001b[38;5;241;43m=\u001b[39;49m\u001b[38;5;124;43m\"\u001b[39;49m\u001b[38;5;124;43mWikiEN\u001b[39;49m\u001b[38;5;124;43m\"\u001b[39;49m\u001b[43m,\u001b[49m\n\u001b[1;32m  17086\u001b[0m \u001b[43m        \u001b[49m\u001b[43mversion\u001b[49m\u001b[38;5;241;43m=\u001b[39;49m\u001b[43mversion\u001b[49m\u001b[43m,\u001b[49m\n\u001b[1;32m  17087\u001b[0m \u001b[43m        \u001b[49m\u001b[43mdirected\u001b[49m\u001b[38;5;241;43m=\u001b[39;49m\u001b[43mdirected\u001b[49m\u001b[43m,\u001b[49m\n\u001b[1;32m  17088\u001b[0m \u001b[43m        \u001b[49m\u001b[43mload_nodes\u001b[49m\u001b[38;5;241;43m=\u001b[39;49m\u001b[43mload_nodes\u001b[49m\u001b[43m,\u001b[49m\n\u001b[1;32m  17089\u001b[0m \u001b[43m        \u001b[49m\u001b[43mload_node_types\u001b[49m\u001b[38;5;241;43m=\u001b[39;49m\u001b[43mload_node_types\u001b[49m\u001b[43m,\u001b[49m\n\u001b[1;32m  17090\u001b[0m \u001b[43m        \u001b[49m\u001b[43mload_edge_types\u001b[49m\u001b[38;5;241;43m=\u001b[39;49m\u001b[43mload_edge_types\u001b[49m\u001b[43m,\u001b[49m\n\u001b[1;32m  17091\u001b[0m \u001b[43m        \u001b[49m\u001b[43mkeep_nodes_without_descriptions\u001b[49m\u001b[38;5;241;43m=\u001b[39;49m\u001b[43mkeep_nodes_without_descriptions\u001b[49m\u001b[43m,\u001b[49m\n\u001b[1;32m  17092\u001b[0m \u001b[43m        \u001b[49m\u001b[43mkeep_nodes_without_categories\u001b[49m\u001b[38;5;241;43m=\u001b[39;49m\u001b[43mkeep_nodes_without_categories\u001b[49m\u001b[43m,\u001b[49m\n\u001b[1;32m  17093\u001b[0m \u001b[43m        \u001b[49m\u001b[43mkeep_interwikipedia_nodes\u001b[49m\u001b[38;5;241;43m=\u001b[39;49m\u001b[43mkeep_interwikipedia_nodes\u001b[49m\u001b[43m,\u001b[49m\n\u001b[1;32m  17094\u001b[0m \u001b[43m        \u001b[49m\u001b[43mkeep_external_nodes\u001b[49m\u001b[38;5;241;43m=\u001b[39;49m\u001b[43mkeep_external_nodes\u001b[49m\u001b[43m,\u001b[49m\n\u001b[1;32m  17095\u001b[0m \u001b[43m        \u001b[49m\u001b[43mcompute_node_description\u001b[49m\u001b[38;5;241;43m=\u001b[39;49m\u001b[43mcompute_node_description\u001b[49m\u001b[43m,\u001b[49m\n\u001b[1;32m  17096\u001b[0m \u001b[43m        \u001b[49m\u001b[43mauto_enable_tradeoffs\u001b[49m\u001b[38;5;241;43m=\u001b[39;49m\u001b[43mauto_enable_tradeoffs\u001b[49m\u001b[43m,\u001b[49m\n\u001b[1;32m  17097\u001b[0m \u001b[43m        \u001b[49m\u001b[43msort_tmp_dir\u001b[49m\u001b[38;5;241;43m=\u001b[39;49m\u001b[43msort_tmp_dir\u001b[49m\u001b[43m,\u001b[49m\n\u001b[1;32m  17098\u001b[0m \u001b[43m        \u001b[49m\u001b[43mverbose\u001b[49m\u001b[38;5;241;43m=\u001b[39;49m\u001b[43mverbose\u001b[49m\u001b[43m,\u001b[49m\n\u001b[1;32m  17099\u001b[0m \u001b[43m        \u001b[49m\u001b[43mcache\u001b[49m\u001b[38;5;241;43m=\u001b[39;49m\u001b[43mcache\u001b[49m\u001b[43m,\u001b[49m\n\u001b[1;32m  17100\u001b[0m \u001b[43m        \u001b[49m\u001b[43mcache_path\u001b[49m\u001b[38;5;241;43m=\u001b[39;49m\u001b[43mcache_path\u001b[49m\u001b[43m,\u001b[49m\n\u001b[1;32m  17101\u001b[0m \u001b[43m        \u001b[49m\u001b[43mcache_sys_var\u001b[49m\u001b[38;5;241;43m=\u001b[39;49m\u001b[43mcache_sys_var\u001b[49m\u001b[43m,\u001b[49m\n\u001b[1;32m  17102\u001b[0m \u001b[43m        \u001b[49m\u001b[43mgraph_kwargs\u001b[49m\u001b[38;5;241;43m=\u001b[39;49m\u001b[43mgraph_kwargs\u001b[49m\n\u001b[1;32m  17103\u001b[0m \u001b[43m    \u001b[49m\u001b[43m)\u001b[49m\u001b[43m(\u001b[49m\u001b[43m)\u001b[49m\n",
      "File \u001b[0;32m/egr/research-dselab/tangwen2/anaconda3/envs/scdiff/lib/python3.9/site-packages/ensmallen/datasets/wikipedia_graph_retrieval.py:147\u001b[0m, in \u001b[0;36mWikipediaRetrievedGraph.__call__\u001b[0;34m(self)\u001b[0m\n\u001b[1;32m    144\u001b[0m paths \u001b[38;5;241m=\u001b[39m \u001b[38;5;28mself\u001b[39m\u001b[38;5;241m.\u001b[39mget_adjusted_graph_paths()\n\u001b[1;32m    145\u001b[0m \u001b[38;5;28;01mif\u001b[39;00m \u001b[38;5;129;01mnot\u001b[39;00m os\u001b[38;5;241m.\u001b[39mpath\u001b[38;5;241m.\u001b[39mexists(root):\n\u001b[1;32m    146\u001b[0m     \u001b[38;5;66;03m# Download the necessary data\u001b[39;00m\n\u001b[0;32m--> 147\u001b[0m     \u001b[38;5;28;43mself\u001b[39;49m\u001b[38;5;241;43m.\u001b[39;49m\u001b[43m_downloader\u001b[49m\u001b[38;5;241;43m.\u001b[39;49m\u001b[43mdownload\u001b[49m\u001b[43m(\u001b[49m\n\u001b[1;32m    148\u001b[0m \u001b[43m        \u001b[49m\u001b[38;5;28;43mself\u001b[39;49m\u001b[38;5;241;43m.\u001b[39;49m\u001b[43m_graph\u001b[49m\u001b[43m[\u001b[49m\u001b[38;5;124;43m\"\u001b[39;49m\u001b[38;5;124;43murls\u001b[39;49m\u001b[38;5;124;43m\"\u001b[39;49m\u001b[43m]\u001b[49m\u001b[43m,\u001b[49m\n\u001b[1;32m    149\u001b[0m \u001b[43m        \u001b[49m\u001b[43mpaths\u001b[49m\n\u001b[1;32m    150\u001b[0m \u001b[43m    \u001b[49m\u001b[43m)\u001b[49m\n\u001b[1;32m    152\u001b[0m os\u001b[38;5;241m.\u001b[39mmakedirs(root, exist_ok\u001b[38;5;241m=\u001b[39m\u001b[38;5;28;01mTrue\u001b[39;00m)\n\u001b[1;32m    154\u001b[0m node_type_list_path \u001b[38;5;241m=\u001b[39m \u001b[38;5;28mself\u001b[39m\u001b[38;5;241m.\u001b[39mget_preprocessed_graph_node_types_path()\n",
      "File \u001b[0;32m/egr/research-dselab/tangwen2/anaconda3/envs/scdiff/lib/python3.9/site-packages/downloaders/downloaders/base_downloader.py:315\u001b[0m, in \u001b[0;36mBaseDownloader.download\u001b[0;34m(self, urls, paths)\u001b[0m\n\u001b[1;32m    313\u001b[0m \u001b[38;5;66;03m# If only one process is required, we don't create a Pool\u001b[39;00m\n\u001b[1;32m    314\u001b[0m \u001b[38;5;28;01mif\u001b[39;00m process_number \u001b[38;5;241m==\u001b[39m \u001b[38;5;241m1\u001b[39m:\n\u001b[0;32m--> 315\u001b[0m     report \u001b[38;5;241m=\u001b[39m pd\u001b[38;5;241m.\u001b[39mDataFrame([\n\u001b[1;32m    316\u001b[0m         \u001b[38;5;28mself\u001b[39m\u001b[38;5;241m.\u001b[39m_download_wrapper(task)\n\u001b[1;32m    317\u001b[0m         \u001b[38;5;28;01mfor\u001b[39;00m task \u001b[38;5;129;01min\u001b[39;00m tqdm(\n\u001b[1;32m    318\u001b[0m             tasks,\n\u001b[1;32m    319\u001b[0m             desc\u001b[38;5;241m=\u001b[39mdesc,\n\u001b[1;32m    320\u001b[0m             dynamic_ncols\u001b[38;5;241m=\u001b[39m\u001b[38;5;28;01mTrue\u001b[39;00m,\n\u001b[1;32m    321\u001b[0m             disable\u001b[38;5;241m=\u001b[39m\u001b[38;5;129;01mnot\u001b[39;00m \u001b[38;5;28mself\u001b[39m\u001b[38;5;241m.\u001b[39m_verbose \u001b[38;5;241m>\u001b[39m \u001b[38;5;241m0\u001b[39m \u001b[38;5;129;01mor\u001b[39;00m \u001b[38;5;28mlen\u001b[39m(urls) \u001b[38;5;241m==\u001b[39m \u001b[38;5;241m1\u001b[39m,\n\u001b[1;32m    322\u001b[0m             total\u001b[38;5;241m=\u001b[39m\u001b[38;5;28mlen\u001b[39m(urls),\n\u001b[1;32m    323\u001b[0m             leave\u001b[38;5;241m=\u001b[39m\u001b[38;5;28;01mFalse\u001b[39;00m\n\u001b[1;32m    324\u001b[0m         )\n\u001b[1;32m    325\u001b[0m     ])\n\u001b[1;32m    326\u001b[0m \u001b[38;5;28;01melse\u001b[39;00m:\n\u001b[1;32m    327\u001b[0m     verbose_backup \u001b[38;5;241m=\u001b[39m \u001b[38;5;28mself\u001b[39m\u001b[38;5;241m.\u001b[39m_verbose\n",
      "File \u001b[0;32m/egr/research-dselab/tangwen2/anaconda3/envs/scdiff/lib/python3.9/site-packages/downloaders/downloaders/base_downloader.py:316\u001b[0m, in \u001b[0;36m<listcomp>\u001b[0;34m(.0)\u001b[0m\n\u001b[1;32m    313\u001b[0m \u001b[38;5;66;03m# If only one process is required, we don't create a Pool\u001b[39;00m\n\u001b[1;32m    314\u001b[0m \u001b[38;5;28;01mif\u001b[39;00m process_number \u001b[38;5;241m==\u001b[39m \u001b[38;5;241m1\u001b[39m:\n\u001b[1;32m    315\u001b[0m     report \u001b[38;5;241m=\u001b[39m pd\u001b[38;5;241m.\u001b[39mDataFrame([\n\u001b[0;32m--> 316\u001b[0m         \u001b[38;5;28;43mself\u001b[39;49m\u001b[38;5;241;43m.\u001b[39;49m\u001b[43m_download_wrapper\u001b[49m\u001b[43m(\u001b[49m\u001b[43mtask\u001b[49m\u001b[43m)\u001b[49m\n\u001b[1;32m    317\u001b[0m         \u001b[38;5;28;01mfor\u001b[39;00m task \u001b[38;5;129;01min\u001b[39;00m tqdm(\n\u001b[1;32m    318\u001b[0m             tasks,\n\u001b[1;32m    319\u001b[0m             desc\u001b[38;5;241m=\u001b[39mdesc,\n\u001b[1;32m    320\u001b[0m             dynamic_ncols\u001b[38;5;241m=\u001b[39m\u001b[38;5;28;01mTrue\u001b[39;00m,\n\u001b[1;32m    321\u001b[0m             disable\u001b[38;5;241m=\u001b[39m\u001b[38;5;129;01mnot\u001b[39;00m \u001b[38;5;28mself\u001b[39m\u001b[38;5;241m.\u001b[39m_verbose \u001b[38;5;241m>\u001b[39m \u001b[38;5;241m0\u001b[39m \u001b[38;5;129;01mor\u001b[39;00m \u001b[38;5;28mlen\u001b[39m(urls) \u001b[38;5;241m==\u001b[39m \u001b[38;5;241m1\u001b[39m,\n\u001b[1;32m    322\u001b[0m             total\u001b[38;5;241m=\u001b[39m\u001b[38;5;28mlen\u001b[39m(urls),\n\u001b[1;32m    323\u001b[0m             leave\u001b[38;5;241m=\u001b[39m\u001b[38;5;28;01mFalse\u001b[39;00m\n\u001b[1;32m    324\u001b[0m         )\n\u001b[1;32m    325\u001b[0m     ])\n\u001b[1;32m    326\u001b[0m \u001b[38;5;28;01melse\u001b[39;00m:\n\u001b[1;32m    327\u001b[0m     verbose_backup \u001b[38;5;241m=\u001b[39m \u001b[38;5;28mself\u001b[39m\u001b[38;5;241m.\u001b[39m_verbose\n",
      "File \u001b[0;32m/egr/research-dselab/tangwen2/anaconda3/envs/scdiff/lib/python3.9/site-packages/downloaders/downloaders/base_downloader.py:262\u001b[0m, in \u001b[0;36mBaseDownloader._download_wrapper\u001b[0;34m(self, kwargs)\u001b[0m\n\u001b[1;32m    260\u001b[0m \u001b[38;5;28;01mdef\u001b[39;00m \u001b[38;5;21m_download_wrapper\u001b[39m(\u001b[38;5;28mself\u001b[39m, kwargs: Dict) \u001b[38;5;241m-\u001b[39m\u001b[38;5;241m>\u001b[39m Dict:\n\u001b[1;32m    261\u001b[0m \u001b[38;5;250m    \u001b[39m\u001b[38;5;124;03m\"\"\"Method to wrap keywords call to _download method.\"\"\"\u001b[39;00m\n\u001b[0;32m--> 262\u001b[0m     \u001b[38;5;28;01mreturn\u001b[39;00m \u001b[38;5;28;43mself\u001b[39;49m\u001b[38;5;241;43m.\u001b[39;49m\u001b[43m_download\u001b[49m\u001b[43m(\u001b[49m\u001b[38;5;241;43m*\u001b[39;49m\u001b[38;5;241;43m*\u001b[39;49m\u001b[43mkwargs\u001b[49m\u001b[43m)\u001b[49m\n",
      "File \u001b[0;32m/egr/research-dselab/tangwen2/anaconda3/envs/scdiff/lib/python3.9/site-packages/downloaders/downloaders/base_downloader.py:236\u001b[0m, in \u001b[0;36mBaseDownloader._download\u001b[0;34m(self, url, destination)\u001b[0m\n\u001b[1;32m    234\u001b[0m         \u001b[38;5;28;01mraise\u001b[39;00m process_exception\n\u001b[1;32m    235\u001b[0m \u001b[38;5;28;01mexcept\u001b[39;00m \u001b[38;5;167;01mKeyboardInterrupt\u001b[39;00m \u001b[38;5;28;01mas\u001b[39;00m user_interrupt_exception:\n\u001b[0;32m--> 236\u001b[0m     \u001b[38;5;28;01mraise\u001b[39;00m user_interrupt_exception\n\u001b[1;32m    237\u001b[0m \u001b[38;5;28;01mexcept\u001b[39;00m \u001b[38;5;167;01mException\u001b[39;00m \u001b[38;5;28;01mas\u001b[39;00m download_crash_exception:\n\u001b[1;32m    238\u001b[0m     \u001b[38;5;66;03m# If the download has crashed and it is required to crash early\u001b[39;00m\n\u001b[1;32m    239\u001b[0m     \u001b[38;5;66;03m# we raise the captured exception.\u001b[39;00m\n\u001b[1;32m    240\u001b[0m     \u001b[38;5;28;01mif\u001b[39;00m \u001b[38;5;28mself\u001b[39m\u001b[38;5;241m.\u001b[39m_crash_early:\n",
      "File \u001b[0;32m/egr/research-dselab/tangwen2/anaconda3/envs/scdiff/lib/python3.9/site-packages/downloaders/downloaders/base_downloader.py:234\u001b[0m, in \u001b[0;36mBaseDownloader._download\u001b[0;34m(self, url, destination)\u001b[0m\n\u001b[1;32m    232\u001b[0m         \u001b[38;5;28;01mif\u001b[39;00m bar \u001b[38;5;129;01mis\u001b[39;00m \u001b[38;5;129;01mnot\u001b[39;00m \u001b[38;5;28;01mNone\u001b[39;00m:\n\u001b[1;32m    233\u001b[0m             bar\u001b[38;5;241m.\u001b[39mclose()\n\u001b[0;32m--> 234\u001b[0m         \u001b[38;5;28;01mraise\u001b[39;00m process_exception\n\u001b[1;32m    235\u001b[0m \u001b[38;5;28;01mexcept\u001b[39;00m \u001b[38;5;167;01mKeyboardInterrupt\u001b[39;00m \u001b[38;5;28;01mas\u001b[39;00m user_interrupt_exception:\n\u001b[1;32m    236\u001b[0m     \u001b[38;5;28;01mraise\u001b[39;00m user_interrupt_exception\n",
      "File \u001b[0;32m/egr/research-dselab/tangwen2/anaconda3/envs/scdiff/lib/python3.9/site-packages/downloaders/downloaders/base_downloader.py:187\u001b[0m, in \u001b[0;36mBaseDownloader._download\u001b[0;34m(self, url, destination)\u001b[0m\n\u001b[1;32m    184\u001b[0m \u001b[38;5;66;03m# If the user hits ctrl-c during the download we want\u001b[39;00m\n\u001b[1;32m    185\u001b[0m \u001b[38;5;66;03m# to remove the partial downloaded file.\u001b[39;00m\n\u001b[1;32m    186\u001b[0m \u001b[38;5;28;01mwith\u001b[39;00m \u001b[38;5;28mopen\u001b[39m(destination, \u001b[38;5;124m\"\u001b[39m\u001b[38;5;124mwb\u001b[39m\u001b[38;5;124m\"\u001b[39m) \u001b[38;5;28;01mas\u001b[39;00m f:\n\u001b[0;32m--> 187\u001b[0m     \u001b[38;5;28;01mfor\u001b[39;00m data \u001b[38;5;129;01min\u001b[39;00m request\u001b[38;5;241m.\u001b[39miter_content(\u001b[38;5;28mself\u001b[39m\u001b[38;5;241m.\u001b[39m_block_size):\n\u001b[1;32m    188\u001b[0m         data_block \u001b[38;5;241m=\u001b[39m \u001b[38;5;28mlen\u001b[39m(data)\n\u001b[1;32m    189\u001b[0m         bar\u001b[38;5;241m.\u001b[39mupdate(data_block)\n",
      "File \u001b[0;32m/egr/research-dselab/tangwen2/anaconda3/envs/scdiff/lib/python3.9/site-packages/requests/models.py:816\u001b[0m, in \u001b[0;36mResponse.iter_content.<locals>.generate\u001b[0;34m()\u001b[0m\n\u001b[1;32m    814\u001b[0m \u001b[38;5;28;01mif\u001b[39;00m \u001b[38;5;28mhasattr\u001b[39m(\u001b[38;5;28mself\u001b[39m\u001b[38;5;241m.\u001b[39mraw, \u001b[38;5;124m\"\u001b[39m\u001b[38;5;124mstream\u001b[39m\u001b[38;5;124m\"\u001b[39m):\n\u001b[1;32m    815\u001b[0m     \u001b[38;5;28;01mtry\u001b[39;00m:\n\u001b[0;32m--> 816\u001b[0m         \u001b[38;5;28;01myield from\u001b[39;00m \u001b[38;5;28mself\u001b[39m\u001b[38;5;241m.\u001b[39mraw\u001b[38;5;241m.\u001b[39mstream(chunk_size, decode_content\u001b[38;5;241m=\u001b[39m\u001b[38;5;28;01mTrue\u001b[39;00m)\n\u001b[1;32m    817\u001b[0m     \u001b[38;5;28;01mexcept\u001b[39;00m ProtocolError \u001b[38;5;28;01mas\u001b[39;00m e:\n\u001b[1;32m    818\u001b[0m         \u001b[38;5;28;01mraise\u001b[39;00m ChunkedEncodingError(e)\n",
      "File \u001b[0;32m/egr/research-dselab/tangwen2/anaconda3/envs/scdiff/lib/python3.9/site-packages/urllib3/response.py:628\u001b[0m, in \u001b[0;36mHTTPResponse.stream\u001b[0;34m(self, amt, decode_content)\u001b[0m\n\u001b[1;32m    626\u001b[0m \u001b[38;5;28;01melse\u001b[39;00m:\n\u001b[1;32m    627\u001b[0m     \u001b[38;5;28;01mwhile\u001b[39;00m \u001b[38;5;129;01mnot\u001b[39;00m is_fp_closed(\u001b[38;5;28mself\u001b[39m\u001b[38;5;241m.\u001b[39m_fp):\n\u001b[0;32m--> 628\u001b[0m         data \u001b[38;5;241m=\u001b[39m \u001b[38;5;28;43mself\u001b[39;49m\u001b[38;5;241;43m.\u001b[39;49m\u001b[43mread\u001b[49m\u001b[43m(\u001b[49m\u001b[43mamt\u001b[49m\u001b[38;5;241;43m=\u001b[39;49m\u001b[43mamt\u001b[49m\u001b[43m,\u001b[49m\u001b[43m \u001b[49m\u001b[43mdecode_content\u001b[49m\u001b[38;5;241;43m=\u001b[39;49m\u001b[43mdecode_content\u001b[49m\u001b[43m)\u001b[49m\n\u001b[1;32m    630\u001b[0m         \u001b[38;5;28;01mif\u001b[39;00m data:\n\u001b[1;32m    631\u001b[0m             \u001b[38;5;28;01myield\u001b[39;00m data\n",
      "File \u001b[0;32m/egr/research-dselab/tangwen2/anaconda3/envs/scdiff/lib/python3.9/site-packages/urllib3/response.py:567\u001b[0m, in \u001b[0;36mHTTPResponse.read\u001b[0;34m(self, amt, decode_content, cache_content)\u001b[0m\n\u001b[1;32m    564\u001b[0m fp_closed \u001b[38;5;241m=\u001b[39m \u001b[38;5;28mgetattr\u001b[39m(\u001b[38;5;28mself\u001b[39m\u001b[38;5;241m.\u001b[39m_fp, \u001b[38;5;124m\"\u001b[39m\u001b[38;5;124mclosed\u001b[39m\u001b[38;5;124m\"\u001b[39m, \u001b[38;5;28;01mFalse\u001b[39;00m)\n\u001b[1;32m    566\u001b[0m \u001b[38;5;28;01mwith\u001b[39;00m \u001b[38;5;28mself\u001b[39m\u001b[38;5;241m.\u001b[39m_error_catcher():\n\u001b[0;32m--> 567\u001b[0m     data \u001b[38;5;241m=\u001b[39m \u001b[38;5;28;43mself\u001b[39;49m\u001b[38;5;241;43m.\u001b[39;49m\u001b[43m_fp_read\u001b[49m\u001b[43m(\u001b[49m\u001b[43mamt\u001b[49m\u001b[43m)\u001b[49m \u001b[38;5;28;01mif\u001b[39;00m \u001b[38;5;129;01mnot\u001b[39;00m fp_closed \u001b[38;5;28;01melse\u001b[39;00m \u001b[38;5;124mb\u001b[39m\u001b[38;5;124m\"\u001b[39m\u001b[38;5;124m\"\u001b[39m\n\u001b[1;32m    568\u001b[0m     \u001b[38;5;28;01mif\u001b[39;00m amt \u001b[38;5;129;01mis\u001b[39;00m \u001b[38;5;28;01mNone\u001b[39;00m:\n\u001b[1;32m    569\u001b[0m         flush_decoder \u001b[38;5;241m=\u001b[39m \u001b[38;5;28;01mTrue\u001b[39;00m\n",
      "File \u001b[0;32m/egr/research-dselab/tangwen2/anaconda3/envs/scdiff/lib/python3.9/site-packages/urllib3/response.py:525\u001b[0m, in \u001b[0;36mHTTPResponse._fp_read\u001b[0;34m(self, amt)\u001b[0m\n\u001b[1;32m    523\u001b[0m \u001b[38;5;28;01melse\u001b[39;00m:\n\u001b[1;32m    524\u001b[0m     chunk_amt \u001b[38;5;241m=\u001b[39m max_chunk_amt\n\u001b[0;32m--> 525\u001b[0m data \u001b[38;5;241m=\u001b[39m \u001b[38;5;28;43mself\u001b[39;49m\u001b[38;5;241;43m.\u001b[39;49m\u001b[43m_fp\u001b[49m\u001b[38;5;241;43m.\u001b[39;49m\u001b[43mread\u001b[49m\u001b[43m(\u001b[49m\u001b[43mchunk_amt\u001b[49m\u001b[43m)\u001b[49m\n\u001b[1;32m    526\u001b[0m \u001b[38;5;28;01mif\u001b[39;00m \u001b[38;5;129;01mnot\u001b[39;00m data:\n\u001b[1;32m    527\u001b[0m     \u001b[38;5;28;01mbreak\u001b[39;00m\n",
      "File \u001b[0;32m/egr/research-dselab/tangwen2/anaconda3/envs/scdiff/lib/python3.9/http/client.py:463\u001b[0m, in \u001b[0;36mHTTPResponse.read\u001b[0;34m(self, amt)\u001b[0m\n\u001b[1;32m    460\u001b[0m \u001b[38;5;28;01mif\u001b[39;00m amt \u001b[38;5;129;01mis\u001b[39;00m \u001b[38;5;129;01mnot\u001b[39;00m \u001b[38;5;28;01mNone\u001b[39;00m:\n\u001b[1;32m    461\u001b[0m     \u001b[38;5;66;03m# Amount is given, implement using readinto\u001b[39;00m\n\u001b[1;32m    462\u001b[0m     b \u001b[38;5;241m=\u001b[39m \u001b[38;5;28mbytearray\u001b[39m(amt)\n\u001b[0;32m--> 463\u001b[0m     n \u001b[38;5;241m=\u001b[39m \u001b[38;5;28;43mself\u001b[39;49m\u001b[38;5;241;43m.\u001b[39;49m\u001b[43mreadinto\u001b[49m\u001b[43m(\u001b[49m\u001b[43mb\u001b[49m\u001b[43m)\u001b[49m\n\u001b[1;32m    464\u001b[0m     \u001b[38;5;28;01mreturn\u001b[39;00m \u001b[38;5;28mmemoryview\u001b[39m(b)[:n]\u001b[38;5;241m.\u001b[39mtobytes()\n\u001b[1;32m    465\u001b[0m \u001b[38;5;28;01melse\u001b[39;00m:\n\u001b[1;32m    466\u001b[0m     \u001b[38;5;66;03m# Amount is not given (unbounded read) so we must check self.length\u001b[39;00m\n\u001b[1;32m    467\u001b[0m     \u001b[38;5;66;03m# and self.chunked\u001b[39;00m\n",
      "File \u001b[0;32m/egr/research-dselab/tangwen2/anaconda3/envs/scdiff/lib/python3.9/http/client.py:507\u001b[0m, in \u001b[0;36mHTTPResponse.readinto\u001b[0;34m(self, b)\u001b[0m\n\u001b[1;32m    502\u001b[0m         b \u001b[38;5;241m=\u001b[39m \u001b[38;5;28mmemoryview\u001b[39m(b)[\u001b[38;5;241m0\u001b[39m:\u001b[38;5;28mself\u001b[39m\u001b[38;5;241m.\u001b[39mlength]\n\u001b[1;32m    504\u001b[0m \u001b[38;5;66;03m# we do not use _safe_read() here because this may be a .will_close\u001b[39;00m\n\u001b[1;32m    505\u001b[0m \u001b[38;5;66;03m# connection, and the user is reading more bytes than will be provided\u001b[39;00m\n\u001b[1;32m    506\u001b[0m \u001b[38;5;66;03m# (for example, reading in 1k chunks)\u001b[39;00m\n\u001b[0;32m--> 507\u001b[0m n \u001b[38;5;241m=\u001b[39m \u001b[38;5;28;43mself\u001b[39;49m\u001b[38;5;241;43m.\u001b[39;49m\u001b[43mfp\u001b[49m\u001b[38;5;241;43m.\u001b[39;49m\u001b[43mreadinto\u001b[49m\u001b[43m(\u001b[49m\u001b[43mb\u001b[49m\u001b[43m)\u001b[49m\n\u001b[1;32m    508\u001b[0m \u001b[38;5;28;01mif\u001b[39;00m \u001b[38;5;129;01mnot\u001b[39;00m n \u001b[38;5;129;01mand\u001b[39;00m b:\n\u001b[1;32m    509\u001b[0m     \u001b[38;5;66;03m# Ideally, we would raise IncompleteRead if the content-length\u001b[39;00m\n\u001b[1;32m    510\u001b[0m     \u001b[38;5;66;03m# wasn't satisfied, but it might break compatibility.\u001b[39;00m\n\u001b[1;32m    511\u001b[0m     \u001b[38;5;28mself\u001b[39m\u001b[38;5;241m.\u001b[39m_close_conn()\n",
      "File \u001b[0;32m/egr/research-dselab/tangwen2/anaconda3/envs/scdiff/lib/python3.9/socket.py:704\u001b[0m, in \u001b[0;36mSocketIO.readinto\u001b[0;34m(self, b)\u001b[0m\n\u001b[1;32m    702\u001b[0m \u001b[38;5;28;01mwhile\u001b[39;00m \u001b[38;5;28;01mTrue\u001b[39;00m:\n\u001b[1;32m    703\u001b[0m     \u001b[38;5;28;01mtry\u001b[39;00m:\n\u001b[0;32m--> 704\u001b[0m         \u001b[38;5;28;01mreturn\u001b[39;00m \u001b[38;5;28;43mself\u001b[39;49m\u001b[38;5;241;43m.\u001b[39;49m\u001b[43m_sock\u001b[49m\u001b[38;5;241;43m.\u001b[39;49m\u001b[43mrecv_into\u001b[49m\u001b[43m(\u001b[49m\u001b[43mb\u001b[49m\u001b[43m)\u001b[49m\n\u001b[1;32m    705\u001b[0m     \u001b[38;5;28;01mexcept\u001b[39;00m timeout:\n\u001b[1;32m    706\u001b[0m         \u001b[38;5;28mself\u001b[39m\u001b[38;5;241m.\u001b[39m_timeout_occurred \u001b[38;5;241m=\u001b[39m \u001b[38;5;28;01mTrue\u001b[39;00m\n",
      "File \u001b[0;32m/egr/research-dselab/tangwen2/anaconda3/envs/scdiff/lib/python3.9/ssl.py:1275\u001b[0m, in \u001b[0;36mSSLSocket.recv_into\u001b[0;34m(self, buffer, nbytes, flags)\u001b[0m\n\u001b[1;32m   1271\u001b[0m     \u001b[38;5;28;01mif\u001b[39;00m flags \u001b[38;5;241m!=\u001b[39m \u001b[38;5;241m0\u001b[39m:\n\u001b[1;32m   1272\u001b[0m         \u001b[38;5;28;01mraise\u001b[39;00m \u001b[38;5;167;01mValueError\u001b[39;00m(\n\u001b[1;32m   1273\u001b[0m           \u001b[38;5;124m\"\u001b[39m\u001b[38;5;124mnon-zero flags not allowed in calls to recv_into() on \u001b[39m\u001b[38;5;132;01m%s\u001b[39;00m\u001b[38;5;124m\"\u001b[39m \u001b[38;5;241m%\u001b[39m\n\u001b[1;32m   1274\u001b[0m           \u001b[38;5;28mself\u001b[39m\u001b[38;5;241m.\u001b[39m\u001b[38;5;18m__class__\u001b[39m)\n\u001b[0;32m-> 1275\u001b[0m     \u001b[38;5;28;01mreturn\u001b[39;00m \u001b[38;5;28;43mself\u001b[39;49m\u001b[38;5;241;43m.\u001b[39;49m\u001b[43mread\u001b[49m\u001b[43m(\u001b[49m\u001b[43mnbytes\u001b[49m\u001b[43m,\u001b[49m\u001b[43m \u001b[49m\u001b[43mbuffer\u001b[49m\u001b[43m)\u001b[49m\n\u001b[1;32m   1276\u001b[0m \u001b[38;5;28;01melse\u001b[39;00m:\n\u001b[1;32m   1277\u001b[0m     \u001b[38;5;28;01mreturn\u001b[39;00m \u001b[38;5;28msuper\u001b[39m()\u001b[38;5;241m.\u001b[39mrecv_into(buffer, nbytes, flags)\n",
      "File \u001b[0;32m/egr/research-dselab/tangwen2/anaconda3/envs/scdiff/lib/python3.9/ssl.py:1133\u001b[0m, in \u001b[0;36mSSLSocket.read\u001b[0;34m(self, len, buffer)\u001b[0m\n\u001b[1;32m   1131\u001b[0m \u001b[38;5;28;01mtry\u001b[39;00m:\n\u001b[1;32m   1132\u001b[0m     \u001b[38;5;28;01mif\u001b[39;00m buffer \u001b[38;5;129;01mis\u001b[39;00m \u001b[38;5;129;01mnot\u001b[39;00m \u001b[38;5;28;01mNone\u001b[39;00m:\n\u001b[0;32m-> 1133\u001b[0m         \u001b[38;5;28;01mreturn\u001b[39;00m \u001b[38;5;28;43mself\u001b[39;49m\u001b[38;5;241;43m.\u001b[39;49m\u001b[43m_sslobj\u001b[49m\u001b[38;5;241;43m.\u001b[39;49m\u001b[43mread\u001b[49m\u001b[43m(\u001b[49m\u001b[38;5;28;43mlen\u001b[39;49m\u001b[43m,\u001b[49m\u001b[43m \u001b[49m\u001b[43mbuffer\u001b[49m\u001b[43m)\u001b[49m\n\u001b[1;32m   1134\u001b[0m     \u001b[38;5;28;01melse\u001b[39;00m:\n\u001b[1;32m   1135\u001b[0m         \u001b[38;5;28;01mreturn\u001b[39;00m \u001b[38;5;28mself\u001b[39m\u001b[38;5;241m.\u001b[39m_sslobj\u001b[38;5;241m.\u001b[39mread(\u001b[38;5;28mlen\u001b[39m)\n",
      "\u001b[0;31mKeyboardInterrupt\u001b[0m: "
     ]
    }
   ],
   "source": [
    "data = dataset(cache_path='../data/grape')\n",
    "data"
   ]
  },
  {
   "cell_type": "code",
   "execution_count": null,
   "id": "7f94b9d9-aa93-4453-9395-dd9e05856897",
   "metadata": {},
   "outputs": [],
   "source": []
  },
  {
   "cell_type": "code",
   "execution_count": null,
   "id": "0573b32d-d699-4825-954d-ab5a6f72f0b8",
   "metadata": {},
   "outputs": [],
   "source": []
  },
  {
   "cell_type": "code",
   "execution_count": null,
   "id": "1a8123d0-bedc-4a1c-846a-6148d890b820",
   "metadata": {},
   "outputs": [],
   "source": []
  }
 ],
 "metadata": {
  "kernelspec": {
   "display_name": "Python 3 (ipykernel)",
   "language": "python",
   "name": "python3"
  },
  "language_info": {
   "codemirror_mode": {
    "name": "ipython",
    "version": 3
   },
   "file_extension": ".py",
   "mimetype": "text/x-python",
   "name": "python",
   "nbconvert_exporter": "python",
   "pygments_lexer": "ipython3",
   "version": "3.9.18"
  }
 },
 "nbformat": 4,
 "nbformat_minor": 5
}
